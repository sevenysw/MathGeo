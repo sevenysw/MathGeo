{
 "cells": [
  {
   "cell_type": "code",
   "execution_count": 13,
   "metadata": {},
   "outputs": [],
   "source": [
    "import numpy as np\n",
    "import scipy.io as io\n",
    "import torch.nn as nn\n",
    "import torch\n",
    "\n",
    "dmat = io.loadmat('/home/huyue/matlab/registration_data/DLR_field1748.mat')\n",
    "d = np.pad(dmat['pp'],((2,1),(0,0)),'edge')[:,0:-1]\n",
    "dshift_noise = np.pad(dmat['ps'],((2,1),(0,0)),'edge')[:,0:-1]\n",
    "[pt,px] = np.shape(d[1500:2501,:])\n",
    "[st,sx] = np.shape(dshift_noise[1500:2501,:])\n",
    "dshift_noise = torch.from_numpy(dshift_noise)\n",
    "a = nn.Parameter(torch.from_numpy(np.random.rand(st,1)))\n",
    "A = a*dshift_noise[1500:2501,:]"
   ]
  },
  {
   "cell_type": "code",
   "execution_count": 6,
   "metadata": {},
   "outputs": [],
   "source": [
    "import numpy as np\n",
    "a = np.array([[2,3,4],[3,4,5]])\n",
    "b=  np.array([[10],[20]])\n",
    "a = torch.from_numpy(a)\n",
    "b = torch.from_numpy(b)\n",
    "\n",
    "c = a*b"
   ]
  },
  {
   "cell_type": "code",
   "execution_count": 14,
   "metadata": {},
   "outputs": [
    {
     "data": {
      "text/plain": [
       "torch.Size([1001, 525])"
      ]
     },
     "execution_count": 14,
     "metadata": {},
     "output_type": "execute_result"
    }
   ],
   "source": [
    "dshift_noise[1500:2501,:].size()"
   ]
  },
  {
   "cell_type": "code",
   "execution_count": 14,
   "metadata": {},
   "outputs": [
    {
     "data": {
      "text/plain": [
       "tensor([[ 20,  30,  40],\n",
       "        [ 60,  80, 100]])"
      ]
     },
     "execution_count": 14,
     "metadata": {},
     "output_type": "execute_result"
    }
   ],
   "source": [
    "c"
   ]
  }
 ],
 "metadata": {
  "kernelspec": {
   "display_name": "dip",
   "language": "python",
   "name": "python3"
  },
  "language_info": {
   "codemirror_mode": {
    "name": "ipython",
    "version": 3
   },
   "file_extension": ".py",
   "mimetype": "text/x-python",
   "name": "python",
   "nbconvert_exporter": "python",
   "pygments_lexer": "ipython3",
   "version": "3.8.16"
  },
  "orig_nbformat": 4
 },
 "nbformat": 4,
 "nbformat_minor": 2
}
